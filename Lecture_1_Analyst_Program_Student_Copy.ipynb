{
  "cells": [
    {
      "cell_type": "markdown",
      "metadata": {
        "id": "view-in-github",
        "colab_type": "text"
      },
      "source": [
        "<a href=\"https://colab.research.google.com/github/levon10/second/blob/main/Lecture_1_Analyst_Program_Student_Copy.ipynb\" target=\"_parent\"><img src=\"https://colab.research.google.com/assets/colab-badge.svg\" alt=\"Open In Colab\"/></a>"
      ]
    },
    {
      "cell_type": "markdown",
      "metadata": {
        "id": "b5fZmLB2lhEV"
      },
      "source": [
        "# Lecture 1 - Introduction to Python\n",
        "\n",
        "**Content**:\n",
        "- Introduction to variables and data types\n",
        "- Functions\n",
        "- Numpy and Matplotlib\n",
        "- Plotting time-series data\n",
        "- Moving averages"
      ]
    },
    {
      "cell_type": "markdown",
      "metadata": {
        "id": "BhQB85FrlhEW"
      },
      "source": [
        "**Python is a high-level, interpreted scripting language**:\n",
        "- It is designed to be easy to read and write.\n",
        "- It is a great language for beginners.\n",
        "  - Syntax, grammar, is basically like English.\n",
        "- Many libraries and frameworks are written for Python.\n",
        "- If you're interested in Machine Learning, AI, Python is a must."
      ]
    },
    {
      "cell_type": "markdown",
      "metadata": {
        "id": "Le8p4nOFlhEX"
      },
      "source": [
        "**Jupyter Notebooks**:\n",
        "- Usually python is coded in ```.py``` files. But we'll be using a Jupyter notebook, ```.ipynb```.\n",
        "- Jupyter notebooks are better for visualization and learning.\n",
        "- Google offers a fantastic resource called Colab, that is a notebook that runs in the cloud.\n",
        "  - So don't worry if your computer is not powerful enough."
      ]
    },
    {
      "cell_type": "markdown",
      "metadata": {
        "id": "9eOFQ9qDlhEX"
      },
      "source": [
        "**Cells**\n",
        "- A cell is a block of code or text that runs independently\n",
        "- You can run a cell by pressing the play button on the left, or by pressing ```Cmd + Enter``` or ```Ctrl + Enter``` for Windows."
      ]
    },
    {
      "cell_type": "markdown",
      "metadata": {
        "id": "hVlZH3polhEX"
      },
      "source": [
        "### Datatypes"
      ]
    },
    {
      "cell_type": "markdown",
      "metadata": {
        "id": "wkreqw6jlhEX"
      },
      "source": [
        "#### Integers, Floats, Strings, Chars and Booleans"
      ]
    },
    {
      "cell_type": "code",
      "execution_count": null,
      "metadata": {
        "id": "b5UcsSLPlhEY",
        "outputId": "3a9fa843-d563-467a-dd37-2a62c229aeac"
      },
      "outputs": [
        {
          "data": {
            "text/plain": [
              "False"
            ]
          },
          "execution_count": 1,
          "metadata": {},
          "output_type": "execute_result"
        }
      ],
      "source": [
        "# integers:\n",
        "\n",
        "# floats:\n",
        "\n",
        "# chars (characters)\n",
        "\n",
        "# strings -> string of chars\n",
        "\n",
        "# Booleans"
      ]
    },
    {
      "cell_type": "markdown",
      "metadata": {
        "id": "ueJlxTwklhEZ"
      },
      "source": [
        "**Use the built-in print function to display the output of the code.**"
      ]
    },
    {
      "cell_type": "code",
      "execution_count": null,
      "metadata": {
        "colab": {
          "base_uri": "https://localhost:8080/"
        },
        "id": "s5h6USbjlhEZ",
        "outputId": "3c120711-69e3-455b-a066-3a579c3d02ab"
      },
      "outputs": [
        {
          "output_type": "stream",
          "name": "stdout",
          "text": [
            "\n"
          ]
        }
      ],
      "source": [
        "print(True)"
      ]
    },
    {
      "cell_type": "markdown",
      "metadata": {
        "id": "qdfjhZOxlhEZ"
      },
      "source": [
        "**Variable Assignment**\n",
        "- Variables are used to store data\n",
        "- Variables are given a descriptive name, and then assigned a value using the ```=``` operator."
      ]
    },
    {
      "cell_type": "code",
      "source": [
        "my_variable = 10\n",
        "variable = 5\n",
        "greeting = 'hi, hows it going'"
      ],
      "metadata": {
        "id": "lry48CUqlwYJ"
      },
      "execution_count": null,
      "outputs": []
    },
    {
      "cell_type": "code",
      "execution_count": null,
      "metadata": {
        "id": "SfnMI22GlhEZ"
      },
      "outputs": [],
      "source": [
        "a = 3\n",
        "print(a)\n",
        "\n",
        "b = 5\n",
        "print(a + b)\n",
        "\n",
        "b = a\n",
        "print(b + a * a)"
      ]
    },
    {
      "cell_type": "markdown",
      "metadata": {
        "id": "z-v3FjuhlhEZ"
      },
      "source": [
        "#### Lists\n",
        "- Lists are a commonly used data type in Python.\n",
        "- They are used to store an ordered collection of items, which can be of different types.\n",
        "- We call them *mutable* data structures, meaning that they can be changed after they are created.\n",
        "\n",
        "```python\n",
        "list = [entry1, entry2, entry3]\n",
        "```"
      ]
    },
    {
      "cell_type": "code",
      "execution_count": null,
      "metadata": {
        "id": "f-bGEVlvlhEa"
      },
      "outputs": [],
      "source": [
        "## defining a list is simple, just use square brackets and separate elements\n",
        "\n",
        "my_list = [1,2,3,4]\n",
        "\n",
        "my_google_price = []\n",
        "\n",
        "my_list_mixed_dt = []"
      ]
    },
    {
      "cell_type": "code",
      "execution_count": null,
      "metadata": {
        "id": "Q2CRnYkZlhEa"
      },
      "outputs": [],
      "source": [
        "print(my_list)"
      ]
    },
    {
      "cell_type": "markdown",
      "metadata": {
        "id": "N5mIPKLHlhEa"
      },
      "source": [
        "#### Indexing Lists\n",
        "- Indexing = Accessing\n",
        "- An index is like the location of an entry within a list\n",
        "- Indexing always starts at 0 in Python i.e. the first element is at index 0\n",
        "  - Note this is the case with almost all programming languages (Matlab is an exception)"
      ]
    },
    {
      "cell_type": "code",
      "execution_count": null,
      "metadata": {
        "id": "lkasI-aulhEa",
        "outputId": "67932861-921a-47ca-d715-6d3dcab43f15"
      },
      "outputs": [
        {
          "name": "stdout",
          "output_type": "stream",
          "text": [
            "True\n",
            "False\n"
          ]
        }
      ],
      "source": [
        "my_list = [0,1,2,3,4,5]\n",
        "\n",
        "# print element at index 1\n",
        "\n",
        "# printing the last element of a list"
      ]
    },
    {
      "cell_type": "markdown",
      "metadata": {
        "id": "vsPjGgfRlhEa"
      },
      "source": [
        "#### For Loops and iterating through Lists\n",
        "- Let's say we have a long list, we don't want to access each element one by one.\n",
        "- For loops are used to iterate through a list, or any other iterable object."
      ]
    },
    {
      "cell_type": "code",
      "execution_count": null,
      "metadata": {
        "id": "TD8OyjN2lhEa"
      },
      "outputs": [],
      "source": [
        "## define a list\n",
        "my_list = [1,2,3,4,5]\n",
        "\n",
        "# len() ## length built-in operation"
      ]
    },
    {
      "cell_type": "code",
      "execution_count": null,
      "metadata": {
        "id": "keBGHIj9lhEa"
      },
      "outputs": [],
      "source": [
        "## let's print the elements of a list\n"
      ]
    },
    {
      "cell_type": "code",
      "execution_count": null,
      "metadata": {
        "id": "JVsf9b64lhEb"
      },
      "outputs": [],
      "source": [
        "## here's another way to do the same thing\n"
      ]
    },
    {
      "cell_type": "code",
      "execution_count": null,
      "metadata": {
        "id": "vrj6XJSBlhEb"
      },
      "outputs": [],
      "source": [
        "## now let's say we have 10 lists, and I want to iterate and print each one of their elements?\n"
      ]
    },
    {
      "cell_type": "markdown",
      "source": [
        "#### Conditional Statements\n",
        "- Check whether or not a condition is satisfied"
      ],
      "metadata": {
        "id": "gCOSmplXrfAQ"
      }
    },
    {
      "cell_type": "code",
      "source": [
        "## use the if and else block for conditional logic\n",
        "## let's say we want to check to see who is 18 and above:"
      ],
      "metadata": {
        "id": "xyjKgPWYrkYi"
      },
      "execution_count": null,
      "outputs": []
    },
    {
      "cell_type": "markdown",
      "metadata": {
        "id": "tkZ73aPVlhEb"
      },
      "source": [
        "### Functions\n",
        "- Functions are a way to encapsulate code that you want to reuse.\n",
        "- We can input data into a function, and get data out of a function"
      ]
    },
    {
      "cell_type": "code",
      "source": [
        "## syntax for defining a function\n",
        "def function_name(the_inputs):\n",
        "\n",
        "    return"
      ],
      "metadata": {
        "id": "Re5cFPMdmKX-"
      },
      "execution_count": null,
      "outputs": []
    },
    {
      "cell_type": "code",
      "execution_count": null,
      "metadata": {
        "id": "rHZlWqU7lhEb"
      },
      "outputs": [],
      "source": [
        "## let's define a function that reads a list as input, and prints the list's elements\n",
        "## call the function my_list_reader\n",
        "\n",
        "\n",
        "\n",
        "\n",
        "\n"
      ]
    },
    {
      "cell_type": "code",
      "execution_count": null,
      "metadata": {
        "id": "gkB1YktKlhEb"
      },
      "outputs": [],
      "source": [
        "## calling functions:\n",
        "\n"
      ]
    },
    {
      "cell_type": "code",
      "execution_count": null,
      "metadata": {
        "id": "1qQOtk52lhEb"
      },
      "outputs": [],
      "source": [
        "## what if we want our function to output a variable\n",
        "## example, let's take the sum of the elements in a list\n",
        "## call the function my_summation_list\n",
        "\n",
        "\n",
        "\n",
        "\n",
        "\n",
        "\n",
        "\n",
        "\n",
        "\n"
      ]
    },
    {
      "cell_type": "markdown",
      "metadata": {
        "id": "Q9bm-Vw1lhEb"
      },
      "source": [
        "### Numpy\n",
        "- Python has many open-source libraries that make coding a lot easier.\n",
        "- **Numpy!!**\n",
        "- Libraries like Numpy provide improvements that make coding a lot more efficient and faster\n",
        "- Useful functions for linear algebra and statistics"
      ]
    },
    {
      "cell_type": "code",
      "execution_count": null,
      "metadata": {
        "id": "5TQji7CIlhEc"
      },
      "outputs": [],
      "source": [
        "## importing the library:\n",
        "\n"
      ]
    },
    {
      "cell_type": "markdown",
      "metadata": {
        "id": "HzARoZkTlhEc"
      },
      "source": [
        "#### Arrays\n",
        "- Arrays can be similar to lists; however, indexing is a lot faster in numpy arrays than in lists, since numpy arrays are stored in contiguous blocks of memory."
      ]
    },
    {
      "cell_type": "code",
      "execution_count": null,
      "metadata": {
        "id": "yG5IpTX0lhEc"
      },
      "outputs": [],
      "source": [
        "# 0 D array -> scalar\n",
        "np.array(1)\n",
        "\n",
        "# 1 D array -> vector which is similar to the list data structure from vanilla python\n",
        "np.array([1,2,3,4])\n",
        "\n",
        "# 2 D array -> matrix, which is like a list of lists\n",
        "my_array =  np.array([[1,2,3], [4,5,6]])"
      ]
    },
    {
      "cell_type": "code",
      "execution_count": null,
      "metadata": {
        "id": "MAtef1L3lhEc",
        "outputId": "f9526c83-3434-4a2b-8845-707d62a55c0b"
      },
      "outputs": [
        {
          "name": "stdout",
          "output_type": "stream",
          "text": [
            "[[1 2 3]\n",
            " [4 5 6]]\n"
          ]
        }
      ],
      "source": [
        "print(my_array)"
      ]
    },
    {
      "cell_type": "code",
      "execution_count": null,
      "metadata": {
        "id": "XdTqkVJWlhEc",
        "outputId": "a10b54c2-ffa3-44e9-b44f-fcdeb13a116e"
      },
      "outputs": [
        {
          "name": "stdout",
          "output_type": "stream",
          "text": [
            "2\n"
          ]
        }
      ],
      "source": [
        "nrow, ncol = my_array.shape ## returns the shape of my_array by row, and then column\n",
        "print(nrow)"
      ]
    },
    {
      "cell_type": "markdown",
      "metadata": {
        "id": "yJqsNXO3lhEc"
      },
      "source": [
        "#### Indexing\n",
        "- indexing is done in a similar fashion to Python; however, if you have an ndim array where ndim > 1, then you have to multi-index"
      ]
    },
    {
      "cell_type": "code",
      "execution_count": null,
      "metadata": {
        "id": "MjPcjOKtlhEc",
        "outputId": "63842147-a5e8-4913-c715-37661de03de1"
      },
      "outputs": [
        {
          "data": {
            "text/plain": [
              "6"
            ]
          },
          "execution_count": 5,
          "metadata": {},
          "output_type": "execute_result"
        }
      ],
      "source": [
        "# [row, column]\n",
        "# let's say we have some matrix\n",
        "# [[1 2 3]\n",
        "#  [4 5 6]]\n",
        "# and we want to get access to number 6,\n",
        "# number 6, is in the 2nd row and the third column\n",
        "\n",
        "my_array[1, 2]"
      ]
    },
    {
      "cell_type": "markdown",
      "metadata": {
        "id": "s6b0igsalhEd"
      },
      "source": [
        "#### Matplot\n",
        "- matplotlib helps us plot and visualize our data using graphs, histograms, bar charts, curves, etc..."
      ]
    },
    {
      "cell_type": "code",
      "source": [
        "## import matplot\n"
      ],
      "metadata": {
        "id": "qEbY1X2WmikO"
      },
      "execution_count": null,
      "outputs": []
    },
    {
      "cell_type": "code",
      "execution_count": null,
      "metadata": {
        "id": "4cqX5vvWlhEd"
      },
      "outputs": [],
      "source": [
        "## x = [0,1,2,3,4]\n",
        "## y = [0,1,2,3,4]\n",
        "\n",
        "## let's plot y vs x\n",
        "\n",
        "\n",
        "\n",
        "\n",
        "\n",
        "\n"
      ]
    },
    {
      "cell_type": "markdown",
      "metadata": {
        "id": "wvM_D0S4lhEd"
      },
      "source": [
        "#### Plotting a sampled normal distribution\n",
        "- Normal distribution is a bell curve that is symmetrical about the mean, at infinity, it approaches zero\n",
        "- Standard normal curve has a mean of 0, and a standard deviation of 1"
      ]
    },
    {
      "cell_type": "code",
      "execution_count": null,
      "metadata": {
        "id": "izWtd75MlhEd"
      },
      "outputs": [],
      "source": [
        "import matplotlib.pyplot as plt\n",
        "## let's make use of the np.random.normal function\n",
        "\n",
        "\n",
        "\n",
        "\n",
        "\n"
      ]
    },
    {
      "cell_type": "markdown",
      "metadata": {
        "id": "gfmybFRtlhEd"
      },
      "source": [
        "#### Plotting Functions\n",
        "- We can also plot functions using matplotlib instead of just plotting data points"
      ]
    },
    {
      "cell_type": "code",
      "execution_count": null,
      "metadata": {
        "id": "hBbrP2bAlhEd"
      },
      "outputs": [],
      "source": [
        "## let's use the np.linspace() function to generate x points and plot the sine graph\n",
        "\n",
        "\n",
        "\n",
        "\n",
        "\n",
        "\n"
      ]
    },
    {
      "cell_type": "markdown",
      "metadata": {
        "id": "_z2xu_YalhEp"
      },
      "source": [
        "#### Plotting Time Series Data using yfinance\n",
        "- So far, we've been plotting functions and sampling from distributions, but what if we want to plot real data?\n",
        "- We can use the yfinance library to get stock data from Yahoo Finance and then plot it using matplotlib"
      ]
    },
    {
      "cell_type": "code",
      "execution_count": null,
      "metadata": {
        "id": "iIkPJttdlhEp"
      },
      "outputs": [],
      "source": [
        "import yfinance as yf"
      ]
    },
    {
      "cell_type": "code",
      "execution_count": null,
      "metadata": {
        "id": "_2qAIN5ZlhEp"
      },
      "outputs": [],
      "source": [
        "## let's plot the YTD (year to date 2024-01-01 to today) at a daily frequency for AAPL\n",
        "## Tickers\n",
        "## Microsoft -> MSFT\n",
        "## TESLA -> TSLA\n",
        "\n",
        "\n",
        "\n",
        "\n",
        "\n"
      ]
    },
    {
      "cell_type": "markdown",
      "metadata": {
        "id": "n4V4pKeKlhEp"
      },
      "source": [
        "#### Comparing the performance of the magnificent 7\n",
        "- Magnificent 7: Apple, Amazon, Google, Meta, Microsoft, Netflix, Tesla"
      ]
    },
    {
      "cell_type": "code",
      "execution_count": null,
      "metadata": {
        "id": "DaHjLbgmlhEp"
      },
      "outputs": [],
      "source": [
        "## in which stock did 100$ grow the most\n",
        "## let's assume these stocks can be bought in non-integer amounts i.e. owning 0.33 shares of TSLA is allowed\n",
        "## so, let's say hypothetically, i invested 100 dollars into each one of the following stocks:\n",
        "## which one performed the best?\n",
        "my_mag_7 = ['AAPL', 'AMZN', 'GOOG', 'META', 'MSFT', 'NFLX', 'TSLA']\n",
        "\n",
        "\n",
        "\n",
        "\n",
        "\n",
        "\n"
      ]
    }
  ],
  "metadata": {
    "kernelspec": {
      "display_name": "finance",
      "language": "python",
      "name": "python3"
    },
    "language_info": {
      "codemirror_mode": {
        "name": "ipython",
        "version": 3
      },
      "file_extension": ".py",
      "mimetype": "text/x-python",
      "name": "python",
      "nbconvert_exporter": "python",
      "pygments_lexer": "ipython3",
      "version": "3.11.8"
    },
    "colab": {
      "provenance": [],
      "include_colab_link": true
    }
  },
  "nbformat": 4,
  "nbformat_minor": 0
}